
# NSE Paper Trading Bot (Google Colab Version)
# Author: ChatGPT

!pip install ta

import pandas as pd
import datetime
import csv
import os
from google.colab import files
from io import BytesIO

# ========== Upload Mock Data ==========
print("📂 Please upload your mock OHLCV CSV files (e.g., RELIANCE.csv)")
uploaded = files.upload()

mock_data = {}
for filename in uploaded.keys():
    df = pd.read_csv(BytesIO(uploaded[filename]))
    df.columns = [c.lower() for c in df.columns]
    df['datetime'] = pd.to_datetime(df['datetime'])
    mock_data[filename.split('.')[0]] = df

# ========== Strategy Function ==========
import ta

def generate_signal(df):
    if len(df) < 50:
        return None

    df = df.copy()
    df['ema20'] = df['close'].ewm(span=20).mean()
    df['ema50'] = df['close'].ewm(span=50).mean()
    df['rsi'] = ta.momentum.RSIIndicator(close=df['close'], window=14).rsi()
    df['vol_sma20'] = df['volume'].rolling(window=20).mean()

    latest = df.iloc[-1]
    is_uptrend = latest['ema20'] > latest['ema50']
    is_downtrend = latest['ema20'] < latest['ema50']
    volume_spike = latest['volume'] > (latest['vol_sma20'] * 1.5)
    bullish_candle = latest['close'] > latest['open']
    bearish_candle = latest['close'] < latest['open']

    if is_uptrend and latest['rsi'] < 40 and bullish_candle and volume_spike:
        return "BUY"
    elif is_downtrend and latest['rsi'] > 60 and bearish_candle and volume_spike:
        return "SELL"
    else:
        return None

# ========== Simulation Parameters ==========
start_time = datetime.time(9, 30)
end_time = datetime.time(14, 45)
quantity = 1
paper_trades = []

def is_trading_time(time_obj):
    return start_time <= time_obj <= end_time

# ========== Run Simulation ==========
for symbol, df in mock_data.items():
    print(f"📊 Simulating {symbol}")
    positions = {}

    for i in range(50, len(df)):
        candle_df = df.iloc[:i]
        now = df.iloc[i]['datetime'].time()

        if not is_trading_time(now):
            continue

        close_price = candle_df['close'].iloc[-1]
        signal = generate_signal(candle_df)

        if symbol not in positions:
            if signal in ["BUY", "SELL"]:
                paper_trades.append([df.iloc[i]['datetime'], symbol, signal, close_price, "Entry"])
                positions[symbol] = {
                    "side": signal,
                    "entry_price": close_price
                }
        else:
            side = positions[symbol]["side"]
            entry_price = positions[symbol]["entry_price"]
            trail_sl = entry_price - 1 if side == "BUY" else entry_price + 1
            sl_hit = (side == "BUY" and close_price <= trail_sl) or                      (side == "SELL" and close_price >= trail_sl)
            opposite = (signal == "SELL" and side == "BUY") or (signal == "BUY" and side == "SELL")

            if sl_hit or opposite:
                paper_trades.append([df.iloc[i]['datetime'], symbol, "EXIT", close_price, "SL Hit" if sl_hit else "Opposite Signal"])
                del positions[symbol]

                if opposite:
                    paper_trades.append([df.iloc[i]['datetime'], symbol, signal, close_price, "Re-entry"])
                    positions[symbol] = {
                        "side": signal,
                        "entry_price": close_price
                    }

# ========== Save and Download Trade Log ==========
results_df = pd.DataFrame(paper_trades, columns=["Time", "Symbol", "Side", "Price", "Reason"])
results_df.to_csv("paper_trades.csv", index=False)
print("✅ Simulation complete! Download your trade log below:")
files.download("paper_trades.csv")
